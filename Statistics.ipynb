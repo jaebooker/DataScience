{
 "cells": [
  {
   "cell_type": "code",
   "execution_count": 1,
   "metadata": {},
   "outputs": [],
   "source": [
    "from scipy import stats\n",
    "import math\n",
    "import numpy as np\n",
    "import pandas as pd\n",
    "import seaborn as sns\n",
    "import matplotlib.pyplot as plt"
   ]
  },
  {
   "cell_type": "code",
   "execution_count": 19,
   "metadata": {},
   "outputs": [
    {
     "data": {
      "text/plain": [
       "4.0"
      ]
     },
     "execution_count": 19,
     "metadata": {},
     "output_type": "execute_result"
    }
   ],
   "source": [
    "np.median(data)"
   ]
  },
  {
   "cell_type": "code",
   "execution_count": 51,
   "metadata": {},
   "outputs": [
    {
     "data": {
      "text/plain": [
       "4.391304347826087"
      ]
     },
     "execution_count": 51,
     "metadata": {},
     "output_type": "execute_result"
    }
   ],
   "source": [
    "data = np.array([1, 3, 5, 2, 3, 7, 8, 4, 10, 0, 6, 7, 3, 0, 3, 0, 5, 7, 10, 1, 4, 9, 3])\n",
    "\n",
    "# TODO: Complete this function by having the function return the average value of our dataset.\n",
    "def compute_mean(dataset):\n",
    "    sum = 0\n",
    "    for i in dataset:\n",
    "        sum += i\n",
    "    return sum / len(dataset)\n",
    "\n",
    "compute_mean(data)"
   ]
  },
  {
   "cell_type": "code",
   "execution_count": 30,
   "metadata": {},
   "outputs": [
    {
     "data": {
      "text/plain": [
       "4"
      ]
     },
     "execution_count": 30,
     "metadata": {},
     "output_type": "execute_result"
    }
   ],
   "source": [
    "# TODO: Complete this function by having the function return the exact true median value of our dataset.\n",
    "# HINT: Consider using DataFrame slicing to help with identifying the correct median value(s).\n",
    "import math\n",
    "def compute_median(dataset):\n",
    "    \"\"\" Main function that determines the median value across our data. \"\"\"\n",
    "    count = len(dataset)\n",
    "    data2 = np.sort(dataset)\n",
    "    if count < 1:\n",
    "        # TODO: Complete this if-statement\n",
    "        return 0\n",
    "#     if count % 2 == 1:\n",
    "#         # TODO: Complete this if-statement\n",
    "#         return\n",
    "    else:\n",
    "        if count % 2 == 0:\n",
    "            return ((data2[math.floor(count/2)]) + (data2[math.floor(count/2)]+1))/2\n",
    "        else:\n",
    "            return data2[math.floor(count/2)]\n",
    "    \n",
    "compute_median(data)"
   ]
  },
  {
   "cell_type": "code",
   "execution_count": 50,
   "metadata": {},
   "outputs": [
    {
     "data": {
      "text/plain": [
       "3"
      ]
     },
     "execution_count": 50,
     "metadata": {},
     "output_type": "execute_result"
    }
   ],
   "source": [
    "def compute_mode(dataset):\n",
    "    data = np.sort(dataset)\n",
    "    count1 = 0\n",
    "    count2 = 1\n",
    "    mode = 1\n",
    "    for i in dataset:\n",
    "        count1 = 0\n",
    "        for n in dataset:\n",
    "            if i == n:\n",
    "                count1 += 1\n",
    "        if count1 > count2:\n",
    "            count2 = count1\n",
    "            mode = i\n",
    "    return mode\n",
    "\n",
    "compute_mode(data)"
   ]
  },
  {
   "cell_type": "code",
   "execution_count": 39,
   "metadata": {},
   "outputs": [
    {
     "data": {
      "text/plain": [
       "3"
      ]
     },
     "execution_count": 39,
     "metadata": {},
     "output_type": "execute_result"
    }
   ],
   "source": [
    "import scipy.stats as st\n",
    "\n",
    "st.mode(data).mode[0]"
   ]
  },
  {
   "cell_type": "code",
   "execution_count": 48,
   "metadata": {},
   "outputs": [
    {
     "data": {
      "text/plain": [
       "10"
      ]
     },
     "execution_count": 48,
     "metadata": {},
     "output_type": "execute_result"
    }
   ],
   "source": [
    "# TODO: Complete this function by having the function return the effective range of values across our data.\n",
    "def compute_range(dataset):\n",
    "    min = dataset[0]\n",
    "    max = dataset[0]\n",
    "    for i in dataset:\n",
    "        if i > max:\n",
    "            max = i\n",
    "        if i < min:\n",
    "            min = i\n",
    "    return max-min\n",
    "\n",
    "compute_range(data)"
   ]
  },
  {
   "cell_type": "code",
   "execution_count": 52,
   "metadata": {},
   "outputs": [
    {
     "data": {
      "text/plain": [
       "8"
      ]
     },
     "execution_count": 52,
     "metadata": {},
     "output_type": "execute_result"
    }
   ],
   "source": [
    "compute_range([4,8,12])"
   ]
  },
  {
   "cell_type": "code",
   "execution_count": 101,
   "metadata": {},
   "outputs": [
    {
     "data": {
      "text/plain": [
       "1.5997419927431266e+95"
      ]
     },
     "execution_count": 101,
     "metadata": {},
     "output_type": "execute_result"
    }
   ],
   "source": [
    "def sumOf(dataset):\n",
    "    sum = 0\n",
    "    for i in dataset:\n",
    "        sum += i\n",
    "    return sum\n",
    "def compute_standard_deviation(dataset):\n",
    "    x = sumOf(dataset)\n",
    "    xm = compute_mean(dataset)\n",
    "    xxm = x-xm\n",
    "    e = xxm**xxm\n",
    "    n = len(dataset)\n",
    "    s = e/n\n",
    "    return math.sqrt(s)\n",
    "\n",
    "compute_standard_deviation(data)"
   ]
  },
  {
   "cell_type": "code",
   "execution_count": 71,
   "metadata": {},
   "outputs": [
    {
     "data": {
      "text/plain": [
       "3.074992123493378"
      ]
     },
     "execution_count": 71,
     "metadata": {},
     "output_type": "execute_result"
    }
   ],
   "source": [
    "np.std(data)"
   ]
  },
  {
   "cell_type": "code",
   "execution_count": 102,
   "metadata": {},
   "outputs": [
    {
     "data": {
      "text/plain": [
       "3.074992123493378"
      ]
     },
     "execution_count": 102,
     "metadata": {},
     "output_type": "execute_result"
    }
   ],
   "source": [
    "def compute_standard_deviation2(dataset):\n",
    "    \"\"\" Main function that approximates the standard deviation of our data. \"\"\"\n",
    "    true_mean = compute_mean(dataset)\n",
    "    \n",
    "    # TODO: Complete these calculations step-by-step to correct the standard deviation calculation.\n",
    "    diffs_squared = [(true_mean - num)**2 for num in dataset]\n",
    "    variance = sum(diffs_squared) / len(diffs_squared)\n",
    "    \n",
    "    return math.sqrt(variance)\n",
    "\n",
    "compute_standard_deviation2(data)"
   ]
  },
  {
   "cell_type": "code",
   "execution_count": null,
   "metadata": {},
   "outputs": [],
   "source": []
  }
 ],
 "metadata": {
  "kernelspec": {
   "display_name": "Python 3",
   "language": "python",
   "name": "python3"
  },
  "language_info": {
   "codemirror_mode": {
    "name": "ipython",
    "version": 3
   },
   "file_extension": ".py",
   "mimetype": "text/x-python",
   "name": "python",
   "nbconvert_exporter": "python",
   "pygments_lexer": "ipython3",
   "version": "3.7.1"
  }
 },
 "nbformat": 4,
 "nbformat_minor": 2
}
